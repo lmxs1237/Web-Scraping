{
 "cells": [
  {
   "cell_type": "code",
   "execution_count": 17,
   "metadata": {},
   "outputs": [],
   "source": [
    "from selenium import webdriver\n",
    "driver = webdriver.Chrome()\n",
    "driver.get('https://www.leasebreak.com/advanced-search?AdvancedSearchModel%5BboroughIds%5D%5B1%5D=0&AdvancedSearchModel%5BboroughIds%5D%5B1%5D=1&AdvancedSearchModel%5BneighborhoodIds%5D%5B5%5D=0&AdvancedSearchModel%5BneighborhoodIds%5D%5B5%5D=5&AdvancedSearchModel%5BneighborhoodIds%5D%5B6%5D=0&AdvancedSearchModel%5BneighborhoodIds%5D%5B6%5D=6&AdvancedSearchModel%5BneighborhoodIds%5D%5B7%5D=0&AdvancedSearchModel%5BneighborhoodIds%5D%5B7%5D=7&AdvancedSearchModel%5BneighborhoodIds%5D%5B8%5D=0&AdvancedSearchModel%5BneighborhoodIds%5D%5B8%5D=8&AdvancedSearchModel%5BneighborhoodIds%5D%5B88%5D=0&AdvancedSearchModel%5BneighborhoodIds%5D%5B88%5D=88&AdvancedSearchModel%5BneighborhoodIds%5D%5B10%5D=0&AdvancedSearchModel%5BneighborhoodIds%5D%5B10%5D=10&AdvancedSearchModel%5BneighborhoodIds%5D%5B11%5D=0&AdvancedSearchModel%5BneighborhoodIds%5D%5B11%5D=11&AdvancedSearchModel%5BneighborhoodIds%5D%5B13%5D=0&AdvancedSearchModel%5BneighborhoodIds%5D%5B13%5D=13&AdvancedSearchModel%5BneighborhoodIds%5D%5B14%5D=0&AdvancedSearchModel%5BneighborhoodIds%5D%5B14%5D=14&AdvancedSearchModel%5BneighborhoodIds%5D%5B12%5D=0&AdvancedSearchModel%5BneighborhoodIds%5D%5B12%5D=12&AdvancedSearchModel%5BneighborhoodIds%5D%5B104%5D=0&AdvancedSearchModel%5BneighborhoodIds%5D%5B104%5D=104&AdvancedSearchModel%5BneighborhoodIds%5D%5B15%5D=0&AdvancedSearchModel%5BneighborhoodIds%5D%5B15%5D=15&AdvancedSearchModel%5BneighborhoodIds%5D%5B16%5D=0&AdvancedSearchModel%5BneighborhoodIds%5D%5B16%5D=16&AdvancedSearchModel%5BneighborhoodIds%5D%5B17%5D=0&AdvancedSearchModel%5BneighborhoodIds%5D%5B17%5D=17&AdvancedSearchModel%5BneighborhoodIds%5D%5B71%5D=0&AdvancedSearchModel%5BneighborhoodIds%5D%5B71%5D=71&AdvancedSearchModel%5BneighborhoodIds%5D%5B87%5D=0&AdvancedSearchModel%5BneighborhoodIds%5D%5B87%5D=87&AdvancedSearchModel%5BneighborhoodIds%5D%5B18%5D=0&AdvancedSearchModel%5BneighborhoodIds%5D%5B18%5D=18&AdvancedSearchModel%5BneighborhoodIds%5D%5B29%5D=0&AdvancedSearchModel%5BneighborhoodIds%5D%5B29%5D=29&AdvancedSearchModel%5BneighborhoodIds%5D%5B31%5D=0&AdvancedSearchModel%5BneighborhoodIds%5D%5B31%5D=31&AdvancedSearchModel%5BneighborhoodIds%5D%5B21%5D=0&AdvancedSearchModel%5BneighborhoodIds%5D%5B21%5D=21&AdvancedSearchModel%5BneighborhoodIds%5D%5B1%5D=0&AdvancedSearchModel%5BneighborhoodIds%5D%5B1%5D=1&AdvancedSearchModel%5BneighborhoodIds%5D%5B3%5D=0&AdvancedSearchModel%5BneighborhoodIds%5D%5B3%5D=3&AdvancedSearchModel%5BneighborhoodIds%5D%5B30%5D=0&AdvancedSearchModel%5BneighborhoodIds%5D%5B30%5D=30&AdvancedSearchModel%5BneighborhoodIds%5D%5B24%5D=0&AdvancedSearchModel%5BneighborhoodIds%5D%5B24%5D=24&AdvancedSearchModel%5BneighborhoodIds%5D%5B2%5D=0&AdvancedSearchModel%5BneighborhoodIds%5D%5B2%5D=2&AdvancedSearchModel%5BneighborhoodIds%5D%5B4%5D=0&AdvancedSearchModel%5BneighborhoodIds%5D%5B4%5D=4&AdvancedSearchModel%5BneighborhoodIds%5D%5B100%5D=0&AdvancedSearchModel%5BneighborhoodIds%5D%5B100%5D=100&AdvancedSearchModel%5BneighborhoodIds%5D%5B72%5D=0&AdvancedSearchModel%5BneighborhoodIds%5D%5B72%5D=72&AdvancedSearchModel%5BboroughIds%5D%5B2%5D=0&AdvancedSearchModel%5BneighborhoodIds%5D%5B33%5D=0&AdvancedSearchModel%5BneighborhoodIds%5D%5B84%5D=0&AdvancedSearchModel%5BneighborhoodIds%5D%5B34%5D=0&AdvancedSearchModel%5BneighborhoodIds%5D%5B73%5D=0&AdvancedSearchModel%5BneighborhoodIds%5D%5B35%5D=0&AdvancedSearchModel%5BneighborhoodIds%5D%5B85%5D=0&AdvancedSearchModel%5BneighborhoodIds%5D%5B86%5D=0&AdvancedSearchModel%5BneighborhoodIds%5D%5B36%5D=0&AdvancedSearchModel%5BneighborhoodIds%5D%5B37%5D=0&AdvancedSearchModel%5BneighborhoodIds%5D%5B70%5D=0&AdvancedSearchModel%5BneighborhoodIds%5D%5B39%5D=0&AdvancedSearchModel%5BneighborhoodIds%5D%5B40%5D=0&AdvancedSearchModel%5BneighborhoodIds%5D%5B41%5D=0&AdvancedSearchModel%5BneighborhoodIds%5D%5B89%5D=0&AdvancedSearchModel%5BneighborhoodIds%5D%5B42%5D=0&AdvancedSearchModel%5BneighborhoodIds%5D%5B69%5D=0&AdvancedSearchModel%5BneighborhoodIds%5D%5B43%5D=0&AdvancedSearchModel%5BneighborhoodIds%5D%5B44%5D=0&AdvancedSearchModel%5BneighborhoodIds%5D%5B91%5D=0&AdvancedSearchModel%5BneighborhoodIds%5D%5B92%5D=0&AdvancedSearchModel%5BneighborhoodIds%5D%5B93%5D=0&AdvancedSearchModel%5BneighborhoodIds%5D%5B45%5D=0&AdvancedSearchModel%5BneighborhoodIds%5D%5B95%5D=0&AdvancedSearchModel%5BneighborhoodIds%5D%5B46%5D=0&AdvancedSearchModel%5BneighborhoodIds%5D%5B96%5D=0&AdvancedSearchModel%5BneighborhoodIds%5D%5B83%5D=0&AdvancedSearchModel%5BneighborhoodIds%5D%5B74%5D=0&AdvancedSearchModel%5BneighborhoodIds%5D%5B47%5D=0&AdvancedSearchModel%5BneighborhoodIds%5D%5B67%5D=0&AdvancedSearchModel%5BneighborhoodIds%5D%5B98%5D=0&AdvancedSearchModel%5BneighborhoodIds%5D%5B101%5D=0&AdvancedSearchModel%5BneighborhoodIds%5D%5B102%5D=0&AdvancedSearchModel%5BneighborhoodIds%5D%5B103%5D=0&AdvancedSearchModel%5BneighborhoodIds%5D%5B55%5D=0&AdvancedSearchModel%5BneighborhoodIds%5D%5B48%5D=0&AdvancedSearchModel%5BneighborhoodIds%5D%5B49%5D=0&AdvancedSearchModel%5BneighborhoodIds%5D%5B99%5D=0&AdvancedSearchModel%5BneighborhoodIds%5D%5B105%5D=0&AdvancedSearchModel%5BneighborhoodIds%5D%5B50%5D=0&AdvancedSearchModel%5BneighborhoodIds%5D%5B109%5D=0&AdvancedSearchModel%5BneighborhoodIds%5D%5B51%5D=0&AdvancedSearchModel%5BneighborhoodIds%5D%5B52%5D=0&AdvancedSearchModel%5BneighborhoodIds%5D%5B53%5D=0&AdvancedSearchModel%5BneighborhoodIds%5D%5B54%5D=0&AdvancedSearchModel%5BboroughIds%5D%5B3%5D=0&AdvancedSearchModel%5BneighborhoodIds%5D%5B56%5D=0&AdvancedSearchModel%5BneighborhoodIds%5D%5B63%5D=0&AdvancedSearchModel%5BneighborhoodIds%5D%5B90%5D=0&AdvancedSearchModel%5BneighborhoodIds%5D%5B64%5D=0&AdvancedSearchModel%5BneighborhoodIds%5D%5B58%5D=0&AdvancedSearchModel%5BneighborhoodIds%5D%5B68%5D=0&AdvancedSearchModel%5BneighborhoodIds%5D%5B59%5D=0&AdvancedSearchModel%5BneighborhoodIds%5D%5B97%5D=0&AdvancedSearchModel%5BneighborhoodIds%5D%5B62%5D=0&AdvancedSearchModel%5BneighborhoodIds%5D%5B57%5D=0&AdvancedSearchModel%5BneighborhoodIds%5D%5B134%5D=0&AdvancedSearchModel%5BneighborhoodIds%5D%5B26%5D=0&AdvancedSearchModel%5BneighborhoodIds%5D%5B60%5D=0&AdvancedSearchModel%5BneighborhoodIds%5D%5B107%5D=0&AdvancedSearchModel%5BneighborhoodIds%5D%5B106%5D=0&AdvancedSearchModel%5BneighborhoodIds%5D%5B94%5D=0&AdvancedSearchModel%5BneighborhoodIds%5D%5B108%5D=0&AdvancedSearchModel%5BneighborhoodIds%5D%5B61%5D=0&AdvancedSearchModel%5BneighborhoodIds%5D%5B110%5D=0&AdvancedSearchModel%5BneighborhoodIds%5D%5B111%5D=0&AdvancedSearchModel%5BneighborhoodIds%5D%5B112%5D=0&AdvancedSearchModel%5BboroughIds%5D%5B4%5D=0&AdvancedSearchModel%5BneighborhoodIds%5D%5B123%5D=0&AdvancedSearchModel%5BneighborhoodIds%5D%5B128%5D=0&AdvancedSearchModel%5BneighborhoodIds%5D%5B131%5D=0&AdvancedSearchModel%5BneighborhoodIds%5D%5B135%5D=0&AdvancedSearchModel%5BneighborhoodIds%5D%5B120%5D=0&AdvancedSearchModel%5BneighborhoodIds%5D%5B129%5D=0&AdvancedSearchModel%5BneighborhoodIds%5D%5B122%5D=0&AdvancedSearchModel%5BneighborhoodIds%5D%5B127%5D=0&AdvancedSearchModel%5BneighborhoodIds%5D%5B117%5D=0&AdvancedSearchModel%5BneighborhoodIds%5D%5B116%5D=0&AdvancedSearchModel%5BneighborhoodIds%5D%5B125%5D=0&AdvancedSearchModel%5BneighborhoodIds%5D%5B130%5D=0&AdvancedSearchModel%5BneighborhoodIds%5D%5B132%5D=0&AdvancedSearchModel%5BneighborhoodIds%5D%5B115%5D=0&AdvancedSearchModel%5BneighborhoodIds%5D%5B66%5D=0&AdvancedSearchModel%5BneighborhoodIds%5D%5B114%5D=0&AdvancedSearchModel%5BneighborhoodIds%5D%5B126%5D=0&AdvancedSearchModel%5BneighborhoodIds%5D%5B65%5D=0&AdvancedSearchModel%5BneighborhoodIds%5D%5B119%5D=0&AdvancedSearchModel%5BneighborhoodIds%5D%5B121%5D=0&AdvancedSearchModel%5BneighborhoodIds%5D%5B118%5D=0&AdvancedSearchModel%5BneighborhoodIds%5D%5B133%5D=0&AdvancedSearchModel%5BneighborhoodIds%5D%5B124%5D=0&AdvancedSearchModel%5BboroughIds%5D%5B5%5D=0&AdvancedSearchModel%5BneighborhoodIds%5D%5B28%5D=0&AdvancedSearchModel%5BboroughIds%5D%5B6%5D=0&AdvancedSearchModel%5BneighborhoodIds%5D%5B82%5D=0&AdvancedSearchModel%5BneighborhoodIds%5D%5B81%5D=0&AdvancedSearchModel%5BneighborhoodIds%5D%5B75%5D=0&AdvancedSearchModel%5BneighborhoodIds%5D%5B76%5D=0&AdvancedSearchModel%5BneighborhoodIds%5D%5B79%5D=0&AdvancedSearchModel%5BneighborhoodIds%5D%5B80%5D=0&AdvancedSearchModel%5BneighborhoodIds%5D%5B77%5D=0&AdvancedSearchModel%5BneighborhoodIds%5D%5B113%5D=0&AdvancedSearchModel%5BneighborhoodIds%5D%5B78%5D=0&AdvancedSearchModel%5BlengthStay%5D=&AdvancedSearchModel%5Bshow12moCheckbox%5D=0&AdvancedSearchModel%5Bprice%5D=0%3B1000000&AdvancedSearchModel%5BprivateRoom%5D=&AdvancedSearchModel%5BapartmentSizeId%5D=&AdvancedSearchModel%5BstartDate%5D=07%2F01%2F2019&AdvancedSearchModel%5BformType%5D=%22+.+AdvancedSearchModel%3A%3ACOLLAPSED_FORM_TYPE+.+%22&sortBy=&sortDirection=')\n",
    "manhattans = driver.find_elements_by_xpath('//div[@class=\"search-item-header-col\"]')"
   ]
  },
  {
   "cell_type": "code",
   "execution_count": 21,
   "metadata": {},
   "outputs": [
    {
     "data": {
      "text/plain": [
       "'https://www.leasebreak.com/short-term-rental-details/113983/75-west-end-avenue'"
      ]
     },
     "execution_count": 21,
     "metadata": {},
     "output_type": "execute_result"
    }
   ],
   "source": [
    "driver.find_elements_by_xpath('//div[@class=\"header\"]/a')[0].get_attribute('href')"
   ]
  },
  {
   "cell_type": "code",
   "execution_count": 186,
   "metadata": {},
   "outputs": [
    {
     "data": {
      "text/plain": [
       "20"
      ]
     },
     "execution_count": 186,
     "metadata": {},
     "output_type": "execute_result"
    }
   ],
   "source": [
    "len(manhattans)"
   ]
  },
  {
   "cell_type": "code",
   "execution_count": 187,
   "metadata": {},
   "outputs": [],
   "source": [
    "manhattan = manhattans[0]"
   ]
  },
  {
   "cell_type": "code",
   "execution_count": 188,
   "metadata": {},
   "outputs": [],
   "source": [
    "manhattan.click()"
   ]
  },
  {
   "cell_type": "code",
   "execution_count": 69,
   "metadata": {},
   "outputs": [
    {
     "data": {
      "text/plain": [
       "'https://www.leasebreak.com/short-term-rental-details/113983/75-west-end-avenue'"
      ]
     },
     "execution_count": 69,
     "metadata": {},
     "output_type": "execute_result"
    }
   ],
   "source": [
    "driver.find_element_by_xpath('/html/head/meta[3]').get_attribute('content')"
   ]
  },
  {
   "cell_type": "code",
   "execution_count": 189,
   "metadata": {},
   "outputs": [],
   "source": [
    "info = driver.find_element_by_xpath('//section[@class=\"main-content\"]')"
   ]
  },
  {
   "cell_type": "markdown",
   "metadata": {},
   "source": [
    "### Website"
   ]
  },
  {
   "cell_type": "code",
   "execution_count": 73,
   "metadata": {},
   "outputs": [
    {
     "data": {
      "text/plain": [
       "'https://www.leasebreak.com/short-term-rental-details/113983/75-west-end-avenue'"
      ]
     },
     "execution_count": 73,
     "metadata": {},
     "output_type": "execute_result"
    }
   ],
   "source": [
    "info.find_element_by_xpath('.//div[@class=\"send-form-wrapper\"]//input[@name=\"SendEmailFormModel[url]\"]').get_attribute('value')"
   ]
  },
  {
   "cell_type": "markdown",
   "metadata": {},
   "source": [
    "### Location"
   ]
  },
  {
   "cell_type": "code",
   "execution_count": 37,
   "metadata": {},
   "outputs": [
    {
     "data": {
      "text/plain": [
       "'75 West End Avenue'"
      ]
     },
     "execution_count": 37,
     "metadata": {},
     "output_type": "execute_result"
    }
   ],
   "source": [
    "info.find_element_by_xpath('.//div[@class=\"title-detail-apartments-col-55\"]/h2').text"
   ]
  },
  {
   "cell_type": "code",
   "execution_count": 40,
   "metadata": {},
   "outputs": [
    {
     "data": {
      "text/plain": [
       "'Upper West Side, Manhattan'"
      ]
     },
     "execution_count": 40,
     "metadata": {},
     "output_type": "execute_result"
    }
   ],
   "source": [
    "info.find_element_by_xpath('.//div[@class=\"title-detail-apartments-col-55\"]/span').text"
   ]
  },
  {
   "cell_type": "markdown",
   "metadata": {},
   "source": [
    "### Price & Time"
   ]
  },
  {
   "cell_type": "code",
   "execution_count": 58,
   "metadata": {},
   "outputs": [
    {
     "data": {
      "text/plain": [
       "'$8,000'"
      ]
     },
     "execution_count": 58,
     "metadata": {},
     "output_type": "execute_result"
    }
   ],
   "source": [
    "info.find_element_by_xpath('.//span[@class=\"listing-price\"]/span[@class=\"detail-right-price\"]').text"
   ]
  },
  {
   "cell_type": "code",
   "execution_count": 57,
   "metadata": {},
   "outputs": [
    {
     "data": {
      "text/plain": [
       "'1 MONTH MIN'"
      ]
     },
     "execution_count": 57,
     "metadata": {},
     "output_type": "execute_result"
    }
   ],
   "source": [
    "info.find_element_by_xpath('.//div[@class=\"right-1-price\"]/span[@class=\"min-term\"]').text"
   ]
  },
  {
   "cell_type": "code",
   "execution_count": 64,
   "metadata": {},
   "outputs": [
    {
     "data": {
      "text/plain": [
       "'Jul 31, 2019'"
      ]
     },
     "execution_count": 64,
     "metadata": {},
     "output_type": "execute_result"
    }
   ],
   "source": [
    "# earliest move in\n",
    "info.find_element_by_xpath('.//div[@class=\"col-50 no-left-padding no-right-padding\"]//span[@class=\"nums-icon\"]').text"
   ]
  },
  {
   "cell_type": "code",
   "execution_count": 65,
   "metadata": {},
   "outputs": [
    {
     "data": {
      "text/plain": [
       "'Aug 30, 2019'"
      ]
     },
     "execution_count": 65,
     "metadata": {},
     "output_type": "execute_result"
    }
   ],
   "source": [
    "# earliest move out\n",
    "info.find_element_by_xpath('.//div[@class=\"col-50\"]//span[@class=\"nums-icon\"]').text"
   ]
  },
  {
   "cell_type": "markdown",
   "metadata": {},
   "source": [
    "### Basics"
   ]
  },
  {
   "cell_type": "code",
   "execution_count": 77,
   "metadata": {},
   "outputs": [
    {
     "data": {
      "text/plain": [
       "'BEDROOMS:\\n2'"
      ]
     },
     "execution_count": 77,
     "metadata": {},
     "output_type": "execute_result"
    }
   ],
   "source": [
    "info.find_elements_by_xpath('.//div[@class=\"the-basic-about\"]//div[@class=\"col-33\"]')[0].text"
   ]
  },
  {
   "cell_type": "code",
   "execution_count": 78,
   "metadata": {},
   "outputs": [
    {
     "data": {
      "text/plain": [
       "'BATHROOMS:\\n2'"
      ]
     },
     "execution_count": 78,
     "metadata": {},
     "output_type": "execute_result"
    }
   ],
   "source": [
    "info.find_elements_by_xpath('.//div[@class=\"the-basic-about\"]//div[@class=\"col-33\"]')[1].text"
   ]
  },
  {
   "cell_type": "code",
   "execution_count": 150,
   "metadata": {},
   "outputs": [
    {
     "data": {
      "text/plain": [
       "'Short Term Rental'"
      ]
     },
     "execution_count": 150,
     "metadata": {},
     "output_type": "execute_result"
    }
   ],
   "source": [
    "#LISTING TYPE\n",
    "info.find_elements_by_xpath('.//div[@class=\"the-basic-table\"]//div[@class=\"col-67 per-100 no-left-padding\"]')[0].text"
   ]
  },
  {
   "cell_type": "code",
   "execution_count": 151,
   "metadata": {},
   "outputs": [
    {
     "data": {
      "text/plain": [
       "'Professional Landlord '"
      ]
     },
     "execution_count": 151,
     "metadata": {},
     "output_type": "execute_result"
    }
   ],
   "source": [
    "#POSTED BY\n",
    "info.find_elements_by_xpath('.//div[@class=\"the-basic-table\"]//div[@class=\"col-67 per-100 no-left-padding\"]')[1].text"
   ]
  },
  {
   "cell_type": "code",
   "execution_count": 153,
   "metadata": {},
   "outputs": [
    {
     "data": {
      "text/plain": [
       "'Rental building'"
      ]
     },
     "execution_count": 153,
     "metadata": {},
     "output_type": "execute_result"
    }
   ],
   "source": [
    "#KIND OF BUILDING\n",
    "info.find_elements_by_xpath('.//div[@class=\"the-basic-table\"]//div[@class=\"col-67 per-100 no-left-padding\"]')[3].text"
   ]
  },
  {
   "cell_type": "code",
   "execution_count": 154,
   "metadata": {},
   "outputs": [
    {
     "data": {
      "text/plain": [
       "'Yes'"
      ]
     },
     "execution_count": 154,
     "metadata": {},
     "output_type": "execute_result"
    }
   ],
   "source": [
    "#OPPORTUNITY TO RENEW:\n",
    "info.find_elements_by_xpath('.//div[@class=\"the-basic-table\"]//div[@class=\"col-67 per-100 no-left-padding\"]')[4].text"
   ]
  },
  {
   "cell_type": "code",
   "execution_count": 155,
   "metadata": {},
   "outputs": [
    {
     "data": {
      "text/plain": [
       "'The poster of this listing is NOT charging a brokerage fee.'"
      ]
     },
     "execution_count": 155,
     "metadata": {},
     "output_type": "execute_result"
    }
   ],
   "source": [
    "#BROKERAGE FEE:\n",
    "info.find_elements_by_xpath('.//div[@class=\"the-basic-table\"]//div[@class=\"col-67 per-100 no-left-padding\"]')[5].text"
   ]
  },
  {
   "cell_type": "markdown",
   "metadata": {},
   "source": [
    "### Furnished"
   ]
  },
  {
   "cell_type": "code",
   "execution_count": 190,
   "metadata": {},
   "outputs": [
    {
     "data": {
      "text/plain": [
       "'Furnished Only'"
      ]
     },
     "execution_count": 190,
     "metadata": {},
     "output_type": "execute_result"
    }
   ],
   "source": [
    "info.find_element_by_xpath('.//div[@class=\"col-33 hide-on-mobile\"]//span[@class=\"nums-icon\"]').text"
   ]
  },
  {
   "cell_type": "markdown",
   "metadata": {},
   "source": [
    "### Features"
   ]
  },
  {
   "cell_type": "code",
   "execution_count": 89,
   "metadata": {},
   "outputs": [],
   "source": [
    "feature = info.find_elements_by_xpath('.//div[@class=\"features-section\"]/ul/li')"
   ]
  },
  {
   "cell_type": "code",
   "execution_count": 92,
   "metadata": {},
   "outputs": [],
   "source": [
    "features = []\n",
    "for item in feature:\n",
    "    features.append(item.text)"
   ]
  },
  {
   "cell_type": "code",
   "execution_count": 93,
   "metadata": {},
   "outputs": [
    {
     "data": {
      "text/plain": [
       "['Renovated',\n",
       " 'Superb Views',\n",
       " 'Exceptional Light',\n",
       " 'Doorman',\n",
       " 'Elevator',\n",
       " 'Pet Friendly',\n",
       " 'Gym']"
      ]
     },
     "execution_count": 93,
     "metadata": {},
     "output_type": "execute_result"
    }
   ],
   "source": [
    "features "
   ]
  },
  {
   "cell_type": "markdown",
   "metadata": {},
   "source": [
    "### goback"
   ]
  },
  {
   "cell_type": "code",
   "execution_count": 182,
   "metadata": {},
   "outputs": [],
   "source": [
    "goback = info.find_element_by_xpath('.//div[@class=\"go-back-section\"]//a[@class=\"go-back js-go-back\"]')"
   ]
  },
  {
   "cell_type": "code",
   "execution_count": 183,
   "metadata": {},
   "outputs": [],
   "source": [
    "goback.click()"
   ]
  },
  {
   "cell_type": "markdown",
   "metadata": {},
   "source": [
    "### next page"
   ]
  },
  {
   "cell_type": "code",
   "execution_count": 220,
   "metadata": {},
   "outputs": [],
   "source": [
    "nextpage = driver.find_element_by_xpath('.//ul[@class=\"pager\"]/li[@class=\"next\"]/a')"
   ]
  },
  {
   "cell_type": "code",
   "execution_count": 221,
   "metadata": {},
   "outputs": [],
   "source": [
    "nextpage.click()"
   ]
  },
  {
   "cell_type": "code",
   "execution_count": 222,
   "metadata": {},
   "outputs": [],
   "source": [
    "title = driver.find_element_by_xpath('//section[@class=\"search-content\"]//div[@class=\"keys\"]').get_attribute('title')"
   ]
  },
  {
   "cell_type": "code",
   "execution_count": 223,
   "metadata": {},
   "outputs": [],
   "source": [
    "web = 'https://www.leasebreak.com'+title"
   ]
  },
  {
   "cell_type": "code",
   "execution_count": 224,
   "metadata": {},
   "outputs": [],
   "source": [
    "driver.get(web)"
   ]
  },
  {
   "cell_type": "markdown",
   "metadata": {},
   "source": [
    "### First Page Test"
   ]
  },
  {
   "cell_type": "code",
   "execution_count": 138,
   "metadata": {},
   "outputs": [
    {
     "name": "stdout",
     "output_type": "stream",
     "text": [
      "https://www.leasebreak.com/short-term-rental-details/113983/75-west-end-avenue 75 West End Avenue Upper West Side, Manhattan $8,000 1 MONTH MIN Jul 31, 2019 Aug 30, 2019 BEDROOMS:\n",
      "2 BATHROOMS:\n",
      "2 Furnished Only ['Renovated', 'Superb Views', 'Exceptional Light', 'Doorman', 'Elevator', 'Pet Friendly', 'Gym']\n",
      "-------------------------\n",
      "https://www.leasebreak.com/short-term-rental-details/130108/120-west-21st-street 120 West 21st Street Chelsea / Hudson Yards, Manhattan $7,900 1 MONTH MIN Immediate Aug 01, 2019 BEDROOMS:\n",
      "1 BATHROOMS:\n",
      "1 Furnished Only ['Doorman', 'Elevator', 'Pet Friendly', 'Gym']\n",
      "-------------------------\n",
      "https://www.leasebreak.com/short-term-rental-details/151538/120-west-21st-street 120 West 21st Street Chelsea / Hudson Yards, Manhattan $7,800 1 MONTH MIN Jul 05, 2019 Aug 04, 2019 BEDROOMS:\n",
      "1 BATHROOMS:\n",
      "1 Furnished Only ['Doorman', 'Elevator', 'Pet Friendly', 'Gym']\n",
      "-------------------------\n"
     ]
    }
   ],
   "source": [
    "driver = webdriver.Chrome()\n",
    "driver.get('https://www.leasebreak.com/advanced-search?AdvancedSearchModel%5BboroughIds%5D%5B1%5D=0&AdvancedSearchModel%5BboroughIds%5D%5B1%5D=1&AdvancedSearchModel%5BneighborhoodIds%5D%5B5%5D=0&AdvancedSearchModel%5BneighborhoodIds%5D%5B5%5D=5&AdvancedSearchModel%5BneighborhoodIds%5D%5B6%5D=0&AdvancedSearchModel%5BneighborhoodIds%5D%5B6%5D=6&AdvancedSearchModel%5BneighborhoodIds%5D%5B7%5D=0&AdvancedSearchModel%5BneighborhoodIds%5D%5B7%5D=7&AdvancedSearchModel%5BneighborhoodIds%5D%5B8%5D=0&AdvancedSearchModel%5BneighborhoodIds%5D%5B8%5D=8&AdvancedSearchModel%5BneighborhoodIds%5D%5B88%5D=0&AdvancedSearchModel%5BneighborhoodIds%5D%5B88%5D=88&AdvancedSearchModel%5BneighborhoodIds%5D%5B10%5D=0&AdvancedSearchModel%5BneighborhoodIds%5D%5B10%5D=10&AdvancedSearchModel%5BneighborhoodIds%5D%5B11%5D=0&AdvancedSearchModel%5BneighborhoodIds%5D%5B11%5D=11&AdvancedSearchModel%5BneighborhoodIds%5D%5B13%5D=0&AdvancedSearchModel%5BneighborhoodIds%5D%5B13%5D=13&AdvancedSearchModel%5BneighborhoodIds%5D%5B14%5D=0&AdvancedSearchModel%5BneighborhoodIds%5D%5B14%5D=14&AdvancedSearchModel%5BneighborhoodIds%5D%5B12%5D=0&AdvancedSearchModel%5BneighborhoodIds%5D%5B12%5D=12&AdvancedSearchModel%5BneighborhoodIds%5D%5B104%5D=0&AdvancedSearchModel%5BneighborhoodIds%5D%5B104%5D=104&AdvancedSearchModel%5BneighborhoodIds%5D%5B15%5D=0&AdvancedSearchModel%5BneighborhoodIds%5D%5B15%5D=15&AdvancedSearchModel%5BneighborhoodIds%5D%5B16%5D=0&AdvancedSearchModel%5BneighborhoodIds%5D%5B16%5D=16&AdvancedSearchModel%5BneighborhoodIds%5D%5B17%5D=0&AdvancedSearchModel%5BneighborhoodIds%5D%5B17%5D=17&AdvancedSearchModel%5BneighborhoodIds%5D%5B71%5D=0&AdvancedSearchModel%5BneighborhoodIds%5D%5B71%5D=71&AdvancedSearchModel%5BneighborhoodIds%5D%5B87%5D=0&AdvancedSearchModel%5BneighborhoodIds%5D%5B87%5D=87&AdvancedSearchModel%5BneighborhoodIds%5D%5B18%5D=0&AdvancedSearchModel%5BneighborhoodIds%5D%5B18%5D=18&AdvancedSearchModel%5BneighborhoodIds%5D%5B29%5D=0&AdvancedSearchModel%5BneighborhoodIds%5D%5B29%5D=29&AdvancedSearchModel%5BneighborhoodIds%5D%5B31%5D=0&AdvancedSearchModel%5BneighborhoodIds%5D%5B31%5D=31&AdvancedSearchModel%5BneighborhoodIds%5D%5B21%5D=0&AdvancedSearchModel%5BneighborhoodIds%5D%5B21%5D=21&AdvancedSearchModel%5BneighborhoodIds%5D%5B1%5D=0&AdvancedSearchModel%5BneighborhoodIds%5D%5B1%5D=1&AdvancedSearchModel%5BneighborhoodIds%5D%5B3%5D=0&AdvancedSearchModel%5BneighborhoodIds%5D%5B3%5D=3&AdvancedSearchModel%5BneighborhoodIds%5D%5B30%5D=0&AdvancedSearchModel%5BneighborhoodIds%5D%5B30%5D=30&AdvancedSearchModel%5BneighborhoodIds%5D%5B24%5D=0&AdvancedSearchModel%5BneighborhoodIds%5D%5B24%5D=24&AdvancedSearchModel%5BneighborhoodIds%5D%5B2%5D=0&AdvancedSearchModel%5BneighborhoodIds%5D%5B2%5D=2&AdvancedSearchModel%5BneighborhoodIds%5D%5B4%5D=0&AdvancedSearchModel%5BneighborhoodIds%5D%5B4%5D=4&AdvancedSearchModel%5BneighborhoodIds%5D%5B100%5D=0&AdvancedSearchModel%5BneighborhoodIds%5D%5B100%5D=100&AdvancedSearchModel%5BneighborhoodIds%5D%5B72%5D=0&AdvancedSearchModel%5BneighborhoodIds%5D%5B72%5D=72&AdvancedSearchModel%5BboroughIds%5D%5B2%5D=0&AdvancedSearchModel%5BneighborhoodIds%5D%5B33%5D=0&AdvancedSearchModel%5BneighborhoodIds%5D%5B84%5D=0&AdvancedSearchModel%5BneighborhoodIds%5D%5B34%5D=0&AdvancedSearchModel%5BneighborhoodIds%5D%5B73%5D=0&AdvancedSearchModel%5BneighborhoodIds%5D%5B35%5D=0&AdvancedSearchModel%5BneighborhoodIds%5D%5B85%5D=0&AdvancedSearchModel%5BneighborhoodIds%5D%5B86%5D=0&AdvancedSearchModel%5BneighborhoodIds%5D%5B36%5D=0&AdvancedSearchModel%5BneighborhoodIds%5D%5B37%5D=0&AdvancedSearchModel%5BneighborhoodIds%5D%5B70%5D=0&AdvancedSearchModel%5BneighborhoodIds%5D%5B39%5D=0&AdvancedSearchModel%5BneighborhoodIds%5D%5B40%5D=0&AdvancedSearchModel%5BneighborhoodIds%5D%5B41%5D=0&AdvancedSearchModel%5BneighborhoodIds%5D%5B89%5D=0&AdvancedSearchModel%5BneighborhoodIds%5D%5B42%5D=0&AdvancedSearchModel%5BneighborhoodIds%5D%5B69%5D=0&AdvancedSearchModel%5BneighborhoodIds%5D%5B43%5D=0&AdvancedSearchModel%5BneighborhoodIds%5D%5B44%5D=0&AdvancedSearchModel%5BneighborhoodIds%5D%5B91%5D=0&AdvancedSearchModel%5BneighborhoodIds%5D%5B92%5D=0&AdvancedSearchModel%5BneighborhoodIds%5D%5B93%5D=0&AdvancedSearchModel%5BneighborhoodIds%5D%5B45%5D=0&AdvancedSearchModel%5BneighborhoodIds%5D%5B95%5D=0&AdvancedSearchModel%5BneighborhoodIds%5D%5B46%5D=0&AdvancedSearchModel%5BneighborhoodIds%5D%5B96%5D=0&AdvancedSearchModel%5BneighborhoodIds%5D%5B83%5D=0&AdvancedSearchModel%5BneighborhoodIds%5D%5B74%5D=0&AdvancedSearchModel%5BneighborhoodIds%5D%5B47%5D=0&AdvancedSearchModel%5BneighborhoodIds%5D%5B67%5D=0&AdvancedSearchModel%5BneighborhoodIds%5D%5B98%5D=0&AdvancedSearchModel%5BneighborhoodIds%5D%5B101%5D=0&AdvancedSearchModel%5BneighborhoodIds%5D%5B102%5D=0&AdvancedSearchModel%5BneighborhoodIds%5D%5B103%5D=0&AdvancedSearchModel%5BneighborhoodIds%5D%5B55%5D=0&AdvancedSearchModel%5BneighborhoodIds%5D%5B48%5D=0&AdvancedSearchModel%5BneighborhoodIds%5D%5B49%5D=0&AdvancedSearchModel%5BneighborhoodIds%5D%5B99%5D=0&AdvancedSearchModel%5BneighborhoodIds%5D%5B105%5D=0&AdvancedSearchModel%5BneighborhoodIds%5D%5B50%5D=0&AdvancedSearchModel%5BneighborhoodIds%5D%5B109%5D=0&AdvancedSearchModel%5BneighborhoodIds%5D%5B51%5D=0&AdvancedSearchModel%5BneighborhoodIds%5D%5B52%5D=0&AdvancedSearchModel%5BneighborhoodIds%5D%5B53%5D=0&AdvancedSearchModel%5BneighborhoodIds%5D%5B54%5D=0&AdvancedSearchModel%5BboroughIds%5D%5B3%5D=0&AdvancedSearchModel%5BneighborhoodIds%5D%5B56%5D=0&AdvancedSearchModel%5BneighborhoodIds%5D%5B63%5D=0&AdvancedSearchModel%5BneighborhoodIds%5D%5B90%5D=0&AdvancedSearchModel%5BneighborhoodIds%5D%5B64%5D=0&AdvancedSearchModel%5BneighborhoodIds%5D%5B58%5D=0&AdvancedSearchModel%5BneighborhoodIds%5D%5B68%5D=0&AdvancedSearchModel%5BneighborhoodIds%5D%5B59%5D=0&AdvancedSearchModel%5BneighborhoodIds%5D%5B97%5D=0&AdvancedSearchModel%5BneighborhoodIds%5D%5B62%5D=0&AdvancedSearchModel%5BneighborhoodIds%5D%5B57%5D=0&AdvancedSearchModel%5BneighborhoodIds%5D%5B134%5D=0&AdvancedSearchModel%5BneighborhoodIds%5D%5B26%5D=0&AdvancedSearchModel%5BneighborhoodIds%5D%5B60%5D=0&AdvancedSearchModel%5BneighborhoodIds%5D%5B107%5D=0&AdvancedSearchModel%5BneighborhoodIds%5D%5B106%5D=0&AdvancedSearchModel%5BneighborhoodIds%5D%5B94%5D=0&AdvancedSearchModel%5BneighborhoodIds%5D%5B108%5D=0&AdvancedSearchModel%5BneighborhoodIds%5D%5B61%5D=0&AdvancedSearchModel%5BneighborhoodIds%5D%5B110%5D=0&AdvancedSearchModel%5BneighborhoodIds%5D%5B111%5D=0&AdvancedSearchModel%5BneighborhoodIds%5D%5B112%5D=0&AdvancedSearchModel%5BboroughIds%5D%5B4%5D=0&AdvancedSearchModel%5BneighborhoodIds%5D%5B123%5D=0&AdvancedSearchModel%5BneighborhoodIds%5D%5B128%5D=0&AdvancedSearchModel%5BneighborhoodIds%5D%5B131%5D=0&AdvancedSearchModel%5BneighborhoodIds%5D%5B135%5D=0&AdvancedSearchModel%5BneighborhoodIds%5D%5B120%5D=0&AdvancedSearchModel%5BneighborhoodIds%5D%5B129%5D=0&AdvancedSearchModel%5BneighborhoodIds%5D%5B122%5D=0&AdvancedSearchModel%5BneighborhoodIds%5D%5B127%5D=0&AdvancedSearchModel%5BneighborhoodIds%5D%5B117%5D=0&AdvancedSearchModel%5BneighborhoodIds%5D%5B116%5D=0&AdvancedSearchModel%5BneighborhoodIds%5D%5B125%5D=0&AdvancedSearchModel%5BneighborhoodIds%5D%5B130%5D=0&AdvancedSearchModel%5BneighborhoodIds%5D%5B132%5D=0&AdvancedSearchModel%5BneighborhoodIds%5D%5B115%5D=0&AdvancedSearchModel%5BneighborhoodIds%5D%5B66%5D=0&AdvancedSearchModel%5BneighborhoodIds%5D%5B114%5D=0&AdvancedSearchModel%5BneighborhoodIds%5D%5B126%5D=0&AdvancedSearchModel%5BneighborhoodIds%5D%5B65%5D=0&AdvancedSearchModel%5BneighborhoodIds%5D%5B119%5D=0&AdvancedSearchModel%5BneighborhoodIds%5D%5B121%5D=0&AdvancedSearchModel%5BneighborhoodIds%5D%5B118%5D=0&AdvancedSearchModel%5BneighborhoodIds%5D%5B133%5D=0&AdvancedSearchModel%5BneighborhoodIds%5D%5B124%5D=0&AdvancedSearchModel%5BboroughIds%5D%5B5%5D=0&AdvancedSearchModel%5BneighborhoodIds%5D%5B28%5D=0&AdvancedSearchModel%5BboroughIds%5D%5B6%5D=0&AdvancedSearchModel%5BneighborhoodIds%5D%5B82%5D=0&AdvancedSearchModel%5BneighborhoodIds%5D%5B81%5D=0&AdvancedSearchModel%5BneighborhoodIds%5D%5B75%5D=0&AdvancedSearchModel%5BneighborhoodIds%5D%5B76%5D=0&AdvancedSearchModel%5BneighborhoodIds%5D%5B79%5D=0&AdvancedSearchModel%5BneighborhoodIds%5D%5B80%5D=0&AdvancedSearchModel%5BneighborhoodIds%5D%5B77%5D=0&AdvancedSearchModel%5BneighborhoodIds%5D%5B113%5D=0&AdvancedSearchModel%5BneighborhoodIds%5D%5B78%5D=0&AdvancedSearchModel%5BlengthStay%5D=&AdvancedSearchModel%5Bshow12moCheckbox%5D=0&AdvancedSearchModel%5Bprice%5D=0%3B1000000&AdvancedSearchModel%5BprivateRoom%5D=&AdvancedSearchModel%5BapartmentSizeId%5D=&AdvancedSearchModel%5BstartDate%5D=07%2F01%2F2019&AdvancedSearchModel%5BformType%5D=%22+.+AdvancedSearchModel%3A%3ACOLLAPSED_FORM_TYPE+.+%22&sortBy=&sortDirection=')\n",
    "manhattans = driver.find_elements_by_xpath('//div[@class=\"search-item-header-col\"]')\n",
    "\n",
    "for i in range(3): # 20 house per page\n",
    "    driver.get('https://www.leasebreak.com/advanced-search?AdvancedSearchModel%5BboroughIds%5D%5B1%5D=0&AdvancedSearchModel%5BboroughIds%5D%5B1%5D=1&AdvancedSearchModel%5BneighborhoodIds%5D%5B5%5D=0&AdvancedSearchModel%5BneighborhoodIds%5D%5B5%5D=5&AdvancedSearchModel%5BneighborhoodIds%5D%5B6%5D=0&AdvancedSearchModel%5BneighborhoodIds%5D%5B6%5D=6&AdvancedSearchModel%5BneighborhoodIds%5D%5B7%5D=0&AdvancedSearchModel%5BneighborhoodIds%5D%5B7%5D=7&AdvancedSearchModel%5BneighborhoodIds%5D%5B8%5D=0&AdvancedSearchModel%5BneighborhoodIds%5D%5B8%5D=8&AdvancedSearchModel%5BneighborhoodIds%5D%5B88%5D=0&AdvancedSearchModel%5BneighborhoodIds%5D%5B88%5D=88&AdvancedSearchModel%5BneighborhoodIds%5D%5B10%5D=0&AdvancedSearchModel%5BneighborhoodIds%5D%5B10%5D=10&AdvancedSearchModel%5BneighborhoodIds%5D%5B11%5D=0&AdvancedSearchModel%5BneighborhoodIds%5D%5B11%5D=11&AdvancedSearchModel%5BneighborhoodIds%5D%5B13%5D=0&AdvancedSearchModel%5BneighborhoodIds%5D%5B13%5D=13&AdvancedSearchModel%5BneighborhoodIds%5D%5B14%5D=0&AdvancedSearchModel%5BneighborhoodIds%5D%5B14%5D=14&AdvancedSearchModel%5BneighborhoodIds%5D%5B12%5D=0&AdvancedSearchModel%5BneighborhoodIds%5D%5B12%5D=12&AdvancedSearchModel%5BneighborhoodIds%5D%5B104%5D=0&AdvancedSearchModel%5BneighborhoodIds%5D%5B104%5D=104&AdvancedSearchModel%5BneighborhoodIds%5D%5B15%5D=0&AdvancedSearchModel%5BneighborhoodIds%5D%5B15%5D=15&AdvancedSearchModel%5BneighborhoodIds%5D%5B16%5D=0&AdvancedSearchModel%5BneighborhoodIds%5D%5B16%5D=16&AdvancedSearchModel%5BneighborhoodIds%5D%5B17%5D=0&AdvancedSearchModel%5BneighborhoodIds%5D%5B17%5D=17&AdvancedSearchModel%5BneighborhoodIds%5D%5B71%5D=0&AdvancedSearchModel%5BneighborhoodIds%5D%5B71%5D=71&AdvancedSearchModel%5BneighborhoodIds%5D%5B87%5D=0&AdvancedSearchModel%5BneighborhoodIds%5D%5B87%5D=87&AdvancedSearchModel%5BneighborhoodIds%5D%5B18%5D=0&AdvancedSearchModel%5BneighborhoodIds%5D%5B18%5D=18&AdvancedSearchModel%5BneighborhoodIds%5D%5B29%5D=0&AdvancedSearchModel%5BneighborhoodIds%5D%5B29%5D=29&AdvancedSearchModel%5BneighborhoodIds%5D%5B31%5D=0&AdvancedSearchModel%5BneighborhoodIds%5D%5B31%5D=31&AdvancedSearchModel%5BneighborhoodIds%5D%5B21%5D=0&AdvancedSearchModel%5BneighborhoodIds%5D%5B21%5D=21&AdvancedSearchModel%5BneighborhoodIds%5D%5B1%5D=0&AdvancedSearchModel%5BneighborhoodIds%5D%5B1%5D=1&AdvancedSearchModel%5BneighborhoodIds%5D%5B3%5D=0&AdvancedSearchModel%5BneighborhoodIds%5D%5B3%5D=3&AdvancedSearchModel%5BneighborhoodIds%5D%5B30%5D=0&AdvancedSearchModel%5BneighborhoodIds%5D%5B30%5D=30&AdvancedSearchModel%5BneighborhoodIds%5D%5B24%5D=0&AdvancedSearchModel%5BneighborhoodIds%5D%5B24%5D=24&AdvancedSearchModel%5BneighborhoodIds%5D%5B2%5D=0&AdvancedSearchModel%5BneighborhoodIds%5D%5B2%5D=2&AdvancedSearchModel%5BneighborhoodIds%5D%5B4%5D=0&AdvancedSearchModel%5BneighborhoodIds%5D%5B4%5D=4&AdvancedSearchModel%5BneighborhoodIds%5D%5B100%5D=0&AdvancedSearchModel%5BneighborhoodIds%5D%5B100%5D=100&AdvancedSearchModel%5BneighborhoodIds%5D%5B72%5D=0&AdvancedSearchModel%5BneighborhoodIds%5D%5B72%5D=72&AdvancedSearchModel%5BboroughIds%5D%5B2%5D=0&AdvancedSearchModel%5BneighborhoodIds%5D%5B33%5D=0&AdvancedSearchModel%5BneighborhoodIds%5D%5B84%5D=0&AdvancedSearchModel%5BneighborhoodIds%5D%5B34%5D=0&AdvancedSearchModel%5BneighborhoodIds%5D%5B73%5D=0&AdvancedSearchModel%5BneighborhoodIds%5D%5B35%5D=0&AdvancedSearchModel%5BneighborhoodIds%5D%5B85%5D=0&AdvancedSearchModel%5BneighborhoodIds%5D%5B86%5D=0&AdvancedSearchModel%5BneighborhoodIds%5D%5B36%5D=0&AdvancedSearchModel%5BneighborhoodIds%5D%5B37%5D=0&AdvancedSearchModel%5BneighborhoodIds%5D%5B70%5D=0&AdvancedSearchModel%5BneighborhoodIds%5D%5B39%5D=0&AdvancedSearchModel%5BneighborhoodIds%5D%5B40%5D=0&AdvancedSearchModel%5BneighborhoodIds%5D%5B41%5D=0&AdvancedSearchModel%5BneighborhoodIds%5D%5B89%5D=0&AdvancedSearchModel%5BneighborhoodIds%5D%5B42%5D=0&AdvancedSearchModel%5BneighborhoodIds%5D%5B69%5D=0&AdvancedSearchModel%5BneighborhoodIds%5D%5B43%5D=0&AdvancedSearchModel%5BneighborhoodIds%5D%5B44%5D=0&AdvancedSearchModel%5BneighborhoodIds%5D%5B91%5D=0&AdvancedSearchModel%5BneighborhoodIds%5D%5B92%5D=0&AdvancedSearchModel%5BneighborhoodIds%5D%5B93%5D=0&AdvancedSearchModel%5BneighborhoodIds%5D%5B45%5D=0&AdvancedSearchModel%5BneighborhoodIds%5D%5B95%5D=0&AdvancedSearchModel%5BneighborhoodIds%5D%5B46%5D=0&AdvancedSearchModel%5BneighborhoodIds%5D%5B96%5D=0&AdvancedSearchModel%5BneighborhoodIds%5D%5B83%5D=0&AdvancedSearchModel%5BneighborhoodIds%5D%5B74%5D=0&AdvancedSearchModel%5BneighborhoodIds%5D%5B47%5D=0&AdvancedSearchModel%5BneighborhoodIds%5D%5B67%5D=0&AdvancedSearchModel%5BneighborhoodIds%5D%5B98%5D=0&AdvancedSearchModel%5BneighborhoodIds%5D%5B101%5D=0&AdvancedSearchModel%5BneighborhoodIds%5D%5B102%5D=0&AdvancedSearchModel%5BneighborhoodIds%5D%5B103%5D=0&AdvancedSearchModel%5BneighborhoodIds%5D%5B55%5D=0&AdvancedSearchModel%5BneighborhoodIds%5D%5B48%5D=0&AdvancedSearchModel%5BneighborhoodIds%5D%5B49%5D=0&AdvancedSearchModel%5BneighborhoodIds%5D%5B99%5D=0&AdvancedSearchModel%5BneighborhoodIds%5D%5B105%5D=0&AdvancedSearchModel%5BneighborhoodIds%5D%5B50%5D=0&AdvancedSearchModel%5BneighborhoodIds%5D%5B109%5D=0&AdvancedSearchModel%5BneighborhoodIds%5D%5B51%5D=0&AdvancedSearchModel%5BneighborhoodIds%5D%5B52%5D=0&AdvancedSearchModel%5BneighborhoodIds%5D%5B53%5D=0&AdvancedSearchModel%5BneighborhoodIds%5D%5B54%5D=0&AdvancedSearchModel%5BboroughIds%5D%5B3%5D=0&AdvancedSearchModel%5BneighborhoodIds%5D%5B56%5D=0&AdvancedSearchModel%5BneighborhoodIds%5D%5B63%5D=0&AdvancedSearchModel%5BneighborhoodIds%5D%5B90%5D=0&AdvancedSearchModel%5BneighborhoodIds%5D%5B64%5D=0&AdvancedSearchModel%5BneighborhoodIds%5D%5B58%5D=0&AdvancedSearchModel%5BneighborhoodIds%5D%5B68%5D=0&AdvancedSearchModel%5BneighborhoodIds%5D%5B59%5D=0&AdvancedSearchModel%5BneighborhoodIds%5D%5B97%5D=0&AdvancedSearchModel%5BneighborhoodIds%5D%5B62%5D=0&AdvancedSearchModel%5BneighborhoodIds%5D%5B57%5D=0&AdvancedSearchModel%5BneighborhoodIds%5D%5B134%5D=0&AdvancedSearchModel%5BneighborhoodIds%5D%5B26%5D=0&AdvancedSearchModel%5BneighborhoodIds%5D%5B60%5D=0&AdvancedSearchModel%5BneighborhoodIds%5D%5B107%5D=0&AdvancedSearchModel%5BneighborhoodIds%5D%5B106%5D=0&AdvancedSearchModel%5BneighborhoodIds%5D%5B94%5D=0&AdvancedSearchModel%5BneighborhoodIds%5D%5B108%5D=0&AdvancedSearchModel%5BneighborhoodIds%5D%5B61%5D=0&AdvancedSearchModel%5BneighborhoodIds%5D%5B110%5D=0&AdvancedSearchModel%5BneighborhoodIds%5D%5B111%5D=0&AdvancedSearchModel%5BneighborhoodIds%5D%5B112%5D=0&AdvancedSearchModel%5BboroughIds%5D%5B4%5D=0&AdvancedSearchModel%5BneighborhoodIds%5D%5B123%5D=0&AdvancedSearchModel%5BneighborhoodIds%5D%5B128%5D=0&AdvancedSearchModel%5BneighborhoodIds%5D%5B131%5D=0&AdvancedSearchModel%5BneighborhoodIds%5D%5B135%5D=0&AdvancedSearchModel%5BneighborhoodIds%5D%5B120%5D=0&AdvancedSearchModel%5BneighborhoodIds%5D%5B129%5D=0&AdvancedSearchModel%5BneighborhoodIds%5D%5B122%5D=0&AdvancedSearchModel%5BneighborhoodIds%5D%5B127%5D=0&AdvancedSearchModel%5BneighborhoodIds%5D%5B117%5D=0&AdvancedSearchModel%5BneighborhoodIds%5D%5B116%5D=0&AdvancedSearchModel%5BneighborhoodIds%5D%5B125%5D=0&AdvancedSearchModel%5BneighborhoodIds%5D%5B130%5D=0&AdvancedSearchModel%5BneighborhoodIds%5D%5B132%5D=0&AdvancedSearchModel%5BneighborhoodIds%5D%5B115%5D=0&AdvancedSearchModel%5BneighborhoodIds%5D%5B66%5D=0&AdvancedSearchModel%5BneighborhoodIds%5D%5B114%5D=0&AdvancedSearchModel%5BneighborhoodIds%5D%5B126%5D=0&AdvancedSearchModel%5BneighborhoodIds%5D%5B65%5D=0&AdvancedSearchModel%5BneighborhoodIds%5D%5B119%5D=0&AdvancedSearchModel%5BneighborhoodIds%5D%5B121%5D=0&AdvancedSearchModel%5BneighborhoodIds%5D%5B118%5D=0&AdvancedSearchModel%5BneighborhoodIds%5D%5B133%5D=0&AdvancedSearchModel%5BneighborhoodIds%5D%5B124%5D=0&AdvancedSearchModel%5BboroughIds%5D%5B5%5D=0&AdvancedSearchModel%5BneighborhoodIds%5D%5B28%5D=0&AdvancedSearchModel%5BboroughIds%5D%5B6%5D=0&AdvancedSearchModel%5BneighborhoodIds%5D%5B82%5D=0&AdvancedSearchModel%5BneighborhoodIds%5D%5B81%5D=0&AdvancedSearchModel%5BneighborhoodIds%5D%5B75%5D=0&AdvancedSearchModel%5BneighborhoodIds%5D%5B76%5D=0&AdvancedSearchModel%5BneighborhoodIds%5D%5B79%5D=0&AdvancedSearchModel%5BneighborhoodIds%5D%5B80%5D=0&AdvancedSearchModel%5BneighborhoodIds%5D%5B77%5D=0&AdvancedSearchModel%5BneighborhoodIds%5D%5B113%5D=0&AdvancedSearchModel%5BneighborhoodIds%5D%5B78%5D=0&AdvancedSearchModel%5BlengthStay%5D=&AdvancedSearchModel%5Bshow12moCheckbox%5D=0&AdvancedSearchModel%5Bprice%5D=0%3B1000000&AdvancedSearchModel%5BprivateRoom%5D=&AdvancedSearchModel%5BapartmentSizeId%5D=&AdvancedSearchModel%5BstartDate%5D=07%2F01%2F2019&AdvancedSearchModel%5BformType%5D=%22+.+AdvancedSearchModel%3A%3ACOLLAPSED_FORM_TYPE+.+%22&sortBy=&sortDirection=')\n",
    "    manhattans = driver.find_elements_by_xpath('//div[@class=\"search-item-header-col\"]')\n",
    "    manhattans[i].click()\n",
    "    \n",
    "    info = driver.find_element_by_xpath('//section[@class=\"main-content\"]')\n",
    "    \n",
    "    website = info.find_element_by_xpath('.//div[@class=\"send-form-wrapper\"]//input[@name=\"SendEmailFormModel[url]\"]').get_attribute('value')\n",
    "    location = info.find_element_by_xpath('.//div[@class=\"title-detail-apartments-col-55\"]/h2').text\n",
    "    distribution = info.find_element_by_xpath('.//div[@class=\"title-detail-apartments-col-55\"]/span').text\n",
    "    price = info.find_element_by_xpath('.//span[@class=\"listing-price\"]/span[@class=\"detail-right-price\"]').text\n",
    "    rentrange = info.find_element_by_xpath('.//div[@class=\"right-1-price\"]/span[@class=\"min-term\"]').text\n",
    "    movein = info.find_element_by_xpath('.//div[@class=\"col-50 no-left-padding no-right-padding\"]//span[@class=\"nums-icon\"]').text\n",
    "    moveout = info.find_element_by_xpath('.//div[@class=\"col-50\"]//span[@class=\"nums-icon\"]').text\n",
    "    bedroom = info.find_elements_by_xpath('.//div[@class=\"the-basic-about\"]//div[@class=\"col-33\"]')[0].text\n",
    "    bathroom = info.find_elements_by_xpath('.//div[@class=\"the-basic-about\"]//div[@class=\"col-33\"]')[1].text\n",
    "    furnished = info.find_element_by_xpath('.//div[@class=\"col-33 hide-on-mobile\"]//span[@class=\"nums-icon\"]').text\n",
    "    feature = info.find_elements_by_xpath('.//div[@class=\"features-section\"]/ul/li')\n",
    "    features = []\n",
    "    for item in feature:\n",
    "        features.append(item.text)\n",
    "        \n",
    "    print(website, location, distribution, price, rentrange, movein, moveout, bedroom, bathroom, furnished, features)\n",
    "    print('-'*25)\n",
    "    \n",
    "    #goback = info.find_element_by_xpath('.//div[@class=\"go-back-section\"]//a[@class=\"go-back js-go-back\"]')\n",
    "    #goback.click()\n",
    "    "
   ]
  }
 ],
 "metadata": {
  "kernelspec": {
   "display_name": "Python 3",
   "language": "python",
   "name": "python3"
  },
  "language_info": {
   "codemirror_mode": {
    "name": "ipython",
    "version": 3
   },
   "file_extension": ".py",
   "mimetype": "text/x-python",
   "name": "python",
   "nbconvert_exporter": "python",
   "pygments_lexer": "ipython3",
   "version": "3.6.5"
  }
 },
 "nbformat": 4,
 "nbformat_minor": 2
}
